{
 "cells": [
  {
   "cell_type": "markdown",
   "metadata": {},
   "source": [
    "# Netflix Movie Analysis 1990s\n",
    "\n",
    "---\n",
    "\n",
    "**Author:** Emmanuel Ocran\n",
    "\n",
    "**LinkedIn:** [@emmanuel-ocran](https://www.linkedin.com/in/emmanuel-ocran)\n",
    "\n",
    "**GitHub:** [@mrocran](https://github.com/mrocran) \n",
    "\n",
    "---\n",
    "\n",
    "**Netflix**! What started in 1997 as a DVD rental service has since exploded into one of the largest entertainment and media companies.\n",
    "\n",
    "Given the large number of movies and series available on the platform, it is a perfect opportunity to flex your exploratory data analysis skills and dive into the entertainment industry.\n",
    "\n",
    "You work for a production company that specializes in nostalgic styles. You want to do some research on movies released in the 1990's. You'll delve into Netflix data and perform exploratory data analysis to better understand this awesome movie decade!\n",
    "\n",
    "You have been supplied with the dataset `netflix_data.csv`, along with the following table detailing the column names and descriptions. Feel free to experiment further!\n",
    "\n",
    "## The data\n",
    "### **netflix_data.csv**\n",
    "| Column       | Description |\n",
    "|--------      |-------------|\n",
    "| `show_id`    | The ID of the show |\n",
    "| `type` | Type of show |\n",
    "| `title` | Title of the show |\n",
    "| `director` | Director of the show |\n",
    "| `cast` | Cast of the show |\n",
    "| `country` | Country of origin |\n",
    "| `date_added` | Date added to Netflix |\n",
    "| `release_year` | Year of Netflix release |\n",
    "| `duration` | Duration of the show in minutes |\n",
    "| `description` | Description of the show |\n",
    "| `genre` | Show genre |"
   ]
  },
  {
   "cell_type": "markdown",
   "metadata": {},
   "source": [
    "## Objectives\n",
    "- To analyze movie duration trends in the 1990s.\n",
    "\n",
    "- To examine the popularity of genres and prolific directors.\n",
    "\n",
    "- To identify top movie-producing countries and their production trends.\n",
    "\n",
    "- To investigate whether movie durations changed over time.\n",
    "\n"
   ]
  },
  {
   "cell_type": "markdown",
   "metadata": {},
   "source": [
    "## Research Questions\n",
    "- What was the most frequent movie duration in the 1990s?\n",
    "\n",
    "- How many action movies in the 1990s had a duration of less than 90 minutes?\n",
    "\n",
    "- What were the most popular genres and who were the most prolific directors?\n",
    "\n",
    "- Which countries produced the most movies during this period?\n",
    "\n",
    "- Did movie durations increase or decrease over time?"
   ]
  },
  {
   "cell_type": "markdown",
   "metadata": {},
   "source": [
    "## 0. Importing Necessary Libraries\n",
    "We'll start by importing the essential Python libraries for data analysis and visualization.\n"
   ]
  },
  {
   "cell_type": "code",
   "execution_count": 1,
   "metadata": {},
   "outputs": [],
   "source": [
    "# Data analysis\n",
    "import pandas as pd  \n",
    "\n",
    "# Data visualization\n",
    "import matplotlib.pyplot as plt  \n",
    "import seaborn as sns \n"
   ]
  },
  {
   "cell_type": "markdown",
   "metadata": {},
   "source": [
    "## 1. Loading the Dataset  \n",
    "We will use `pandas` to load the `netflix_data.csv` file and take an initial look at the data.  "
   ]
  },
  {
   "cell_type": "code",
   "execution_count": 2,
   "metadata": {},
   "outputs": [
    {
     "name": "stdout",
     "output_type": "stream",
     "text": [
      "<class 'pandas.core.frame.DataFrame'>\n",
      "RangeIndex: 4812 entries, 0 to 4811\n",
      "Data columns (total 11 columns):\n",
      " #   Column        Non-Null Count  Dtype \n",
      "---  ------        --------------  ----- \n",
      " 0   show_id       4812 non-null   object\n",
      " 1   type          4812 non-null   object\n",
      " 2   title         4812 non-null   object\n",
      " 3   director      4812 non-null   object\n",
      " 4   cast          4812 non-null   object\n",
      " 5   country       4812 non-null   object\n",
      " 6   date_added    4812 non-null   object\n",
      " 7   release_year  4812 non-null   int64 \n",
      " 8   duration      4812 non-null   int64 \n",
      " 9   description   4812 non-null   object\n",
      " 10  genre         4812 non-null   object\n",
      "dtypes: int64(2), object(9)\n",
      "memory usage: 413.7+ KB\n"
     ]
    },
    {
     "data": {
      "text/html": [
       "<div>\n",
       "<style scoped>\n",
       "    .dataframe tbody tr th:only-of-type {\n",
       "        vertical-align: middle;\n",
       "    }\n",
       "\n",
       "    .dataframe tbody tr th {\n",
       "        vertical-align: top;\n",
       "    }\n",
       "\n",
       "    .dataframe thead th {\n",
       "        text-align: right;\n",
       "    }\n",
       "</style>\n",
       "<table border=\"1\" class=\"dataframe\">\n",
       "  <thead>\n",
       "    <tr style=\"text-align: right;\">\n",
       "      <th></th>\n",
       "      <th>show_id</th>\n",
       "      <th>type</th>\n",
       "      <th>title</th>\n",
       "      <th>director</th>\n",
       "      <th>cast</th>\n",
       "      <th>country</th>\n",
       "      <th>date_added</th>\n",
       "      <th>release_year</th>\n",
       "      <th>duration</th>\n",
       "      <th>description</th>\n",
       "      <th>genre</th>\n",
       "    </tr>\n",
       "  </thead>\n",
       "  <tbody>\n",
       "    <tr>\n",
       "      <th>0</th>\n",
       "      <td>s2</td>\n",
       "      <td>Movie</td>\n",
       "      <td>7:19</td>\n",
       "      <td>Jorge Michel Grau</td>\n",
       "      <td>Demián Bichir, Héctor Bonilla, Oscar Serrano, ...</td>\n",
       "      <td>Mexico</td>\n",
       "      <td>December 23, 2016</td>\n",
       "      <td>2016</td>\n",
       "      <td>93</td>\n",
       "      <td>After a devastating earthquake hits Mexico Cit...</td>\n",
       "      <td>Dramas</td>\n",
       "    </tr>\n",
       "    <tr>\n",
       "      <th>1</th>\n",
       "      <td>s3</td>\n",
       "      <td>Movie</td>\n",
       "      <td>23:59</td>\n",
       "      <td>Gilbert Chan</td>\n",
       "      <td>Tedd Chan, Stella Chung, Henley Hii, Lawrence ...</td>\n",
       "      <td>Singapore</td>\n",
       "      <td>December 20, 2018</td>\n",
       "      <td>2011</td>\n",
       "      <td>78</td>\n",
       "      <td>When an army recruit is found dead, his fellow...</td>\n",
       "      <td>Horror Movies</td>\n",
       "    </tr>\n",
       "    <tr>\n",
       "      <th>2</th>\n",
       "      <td>s4</td>\n",
       "      <td>Movie</td>\n",
       "      <td>9</td>\n",
       "      <td>Shane Acker</td>\n",
       "      <td>Elijah Wood, John C. Reilly, Jennifer Connelly...</td>\n",
       "      <td>United States</td>\n",
       "      <td>November 16, 2017</td>\n",
       "      <td>2009</td>\n",
       "      <td>80</td>\n",
       "      <td>In a postapocalyptic world, rag-doll robots hi...</td>\n",
       "      <td>Action</td>\n",
       "    </tr>\n",
       "    <tr>\n",
       "      <th>3</th>\n",
       "      <td>s5</td>\n",
       "      <td>Movie</td>\n",
       "      <td>21</td>\n",
       "      <td>Robert Luketic</td>\n",
       "      <td>Jim Sturgess, Kevin Spacey, Kate Bosworth, Aar...</td>\n",
       "      <td>United States</td>\n",
       "      <td>January 1, 2020</td>\n",
       "      <td>2008</td>\n",
       "      <td>123</td>\n",
       "      <td>A brilliant group of students become card-coun...</td>\n",
       "      <td>Dramas</td>\n",
       "    </tr>\n",
       "    <tr>\n",
       "      <th>4</th>\n",
       "      <td>s6</td>\n",
       "      <td>TV Show</td>\n",
       "      <td>46</td>\n",
       "      <td>Serdar Akar</td>\n",
       "      <td>Erdal Beşikçioğlu, Yasemin Allen, Melis Birkan...</td>\n",
       "      <td>Turkey</td>\n",
       "      <td>July 1, 2017</td>\n",
       "      <td>2016</td>\n",
       "      <td>1</td>\n",
       "      <td>A genetics professor experiments with a treatm...</td>\n",
       "      <td>International TV</td>\n",
       "    </tr>\n",
       "  </tbody>\n",
       "</table>\n",
       "</div>"
      ],
      "text/plain": [
       "  show_id     type  title           director  \\\n",
       "0      s2    Movie   7:19  Jorge Michel Grau   \n",
       "1      s3    Movie  23:59       Gilbert Chan   \n",
       "2      s4    Movie      9        Shane Acker   \n",
       "3      s5    Movie     21     Robert Luketic   \n",
       "4      s6  TV Show     46        Serdar Akar   \n",
       "\n",
       "                                                cast        country  \\\n",
       "0  Demián Bichir, Héctor Bonilla, Oscar Serrano, ...         Mexico   \n",
       "1  Tedd Chan, Stella Chung, Henley Hii, Lawrence ...      Singapore   \n",
       "2  Elijah Wood, John C. Reilly, Jennifer Connelly...  United States   \n",
       "3  Jim Sturgess, Kevin Spacey, Kate Bosworth, Aar...  United States   \n",
       "4  Erdal Beşikçioğlu, Yasemin Allen, Melis Birkan...         Turkey   \n",
       "\n",
       "          date_added  release_year  duration  \\\n",
       "0  December 23, 2016          2016        93   \n",
       "1  December 20, 2018          2011        78   \n",
       "2  November 16, 2017          2009        80   \n",
       "3    January 1, 2020          2008       123   \n",
       "4       July 1, 2017          2016         1   \n",
       "\n",
       "                                         description             genre  \n",
       "0  After a devastating earthquake hits Mexico Cit...            Dramas  \n",
       "1  When an army recruit is found dead, his fellow...     Horror Movies  \n",
       "2  In a postapocalyptic world, rag-doll robots hi...            Action  \n",
       "3  A brilliant group of students become card-coun...            Dramas  \n",
       "4  A genetics professor experiments with a treatm...  International TV  "
      ]
     },
     "execution_count": 2,
     "metadata": {},
     "output_type": "execute_result"
    }
   ],
   "source": [
    "# Load the dataset\n",
    "netflix_data = pd.read_csv(\"ads-datasets/netflix_data.csv\")\n",
    "\n",
    "# Display basic information about the dataset\n",
    "netflix_data.info()\n",
    "\n",
    "# Show the first few rows\n",
    "netflix_data.head()"
   ]
  },
  {
   "cell_type": "markdown",
   "metadata": {},
   "source": [
    "#### Understanding the Dataset  \n",
    "\n",
    "From the dataset preview, we can make the following observations:\n",
    "\n",
    "- The dataset contains **4,812 rows and 11 columns**, as shown in the `info()` output.\n",
    "\n",
    "- Key columns include:\n",
    "\n",
    " - `type` (Movie/TV Show)\n",
    "\n",
    " - `release_year` (Year of release)\n",
    "\n",
    " - `duration` (Length of movies in minutes)\n",
    "\n",
    " - `genre`, `country`, and `director` (Categorical variables)\n",
    "\n",
    "- **No missing values** are present, and all columns are correctly formatted.\n",
    "\n",
    "Since the dataset is clean, we can proceed with **Exploratory Data Analysis (EDA)** to uncover patterns and insights."
   ]
  },
  {
   "cell_type": "markdown",
   "metadata": {},
   "source": [
    "## 2:  Exploring the Data\n",
    "\n",
    "### 2.1 Summary Statistics\n"
   ]
  },
  {
   "cell_type": "code",
   "execution_count": 3,
   "metadata": {},
   "outputs": [
    {
     "data": {
      "text/html": [
       "<div>\n",
       "<style scoped>\n",
       "    .dataframe tbody tr th:only-of-type {\n",
       "        vertical-align: middle;\n",
       "    }\n",
       "\n",
       "    .dataframe tbody tr th {\n",
       "        vertical-align: top;\n",
       "    }\n",
       "\n",
       "    .dataframe thead th {\n",
       "        text-align: right;\n",
       "    }\n",
       "</style>\n",
       "<table border=\"1\" class=\"dataframe\">\n",
       "  <thead>\n",
       "    <tr style=\"text-align: right;\">\n",
       "      <th></th>\n",
       "      <th>release_year</th>\n",
       "      <th>duration</th>\n",
       "    </tr>\n",
       "  </thead>\n",
       "  <tbody>\n",
       "    <tr>\n",
       "      <th>count</th>\n",
       "      <td>4812.000000</td>\n",
       "      <td>4812.000000</td>\n",
       "    </tr>\n",
       "    <tr>\n",
       "      <th>mean</th>\n",
       "      <td>2012.711554</td>\n",
       "      <td>99.566708</td>\n",
       "    </tr>\n",
       "    <tr>\n",
       "      <th>std</th>\n",
       "      <td>9.517978</td>\n",
       "      <td>30.889305</td>\n",
       "    </tr>\n",
       "    <tr>\n",
       "      <th>min</th>\n",
       "      <td>1942.000000</td>\n",
       "      <td>1.000000</td>\n",
       "    </tr>\n",
       "    <tr>\n",
       "      <th>25%</th>\n",
       "      <td>2011.000000</td>\n",
       "      <td>88.000000</td>\n",
       "    </tr>\n",
       "    <tr>\n",
       "      <th>50%</th>\n",
       "      <td>2016.000000</td>\n",
       "      <td>99.000000</td>\n",
       "    </tr>\n",
       "    <tr>\n",
       "      <th>75%</th>\n",
       "      <td>2018.000000</td>\n",
       "      <td>116.000000</td>\n",
       "    </tr>\n",
       "    <tr>\n",
       "      <th>max</th>\n",
       "      <td>2021.000000</td>\n",
       "      <td>253.000000</td>\n",
       "    </tr>\n",
       "  </tbody>\n",
       "</table>\n",
       "</div>"
      ],
      "text/plain": [
       "       release_year     duration\n",
       "count   4812.000000  4812.000000\n",
       "mean    2012.711554    99.566708\n",
       "std        9.517978    30.889305\n",
       "min     1942.000000     1.000000\n",
       "25%     2011.000000    88.000000\n",
       "50%     2016.000000    99.000000\n",
       "75%     2018.000000   116.000000\n",
       "max     2021.000000   253.000000"
      ]
     },
     "execution_count": 3,
     "metadata": {},
     "output_type": "execute_result"
    }
   ],
   "source": [
    "# Generate summary statistics for numerical columns\n",
    "netflix_data.describe()"
   ]
  },
  {
   "cell_type": "markdown",
   "metadata": {},
   "source": [
    "#### Summary Statistics Overview\n",
    "\n",
    "- **Release Year**: Movies range from **1942 to 2021**, with most released after 2010 (median: **2016**).\n",
    "\n",
    "- **Duration**: The average movie lasts **~99 minutes**, with most between **88-116 minutes**.\n",
    "\n",
    "- **Outliers**: Some extremely short (**1 min**) and long (**253 min**) movies exist.\n",
    "\n",
    "- This suggests that the dataset is **skewed towards recent movies** and has some **variation in movie lengths**.\n",
    "\n",
    "Now, let's visualize the duration distribution for deeper insights."
   ]
  },
  {
   "cell_type": "markdown",
   "metadata": {},
   "source": [
    "### 2.2 Visualizing the Distribution\n",
    "\n",
    "#### 2.2.1 Histogram for `release_year`"
   ]
  },
  {
   "cell_type": "code",
   "execution_count": 4,
   "metadata": {},
   "outputs": [
    {
     "data": {
      "image/png": "[encoded data removed]",
      "text/plain": [
       "<Figure size 720x360 with 1 Axes>"
      ]
     },
     "metadata": {},
     "output_type": "display_data"
    }
   ],
   "source": [
    "# Set the style\n",
    "sns.set_style(\"darkgrid\")\n",
    "\n",
    "# Figure size\n",
    "plt.figure(figsize=(10, 5))\n",
    "\n",
    "# Histogram of release year\n",
    "plt.hist(netflix_data[\"release_year\"], bins=30, color=\"royalblue\", edgecolor=\"black\")\n",
    "plt.xlabel(\"Release Year\")\n",
    "plt.ylabel(\"Count\")\n",
    "plt.title(\"Distribution of Movies Release Year\")\n",
    "\n",
    "# Show plot\n",
    "plt.show()\n"
   ]
  },
  {
   "cell_type": "markdown",
   "metadata": {},
   "source": [
    "#### Interpretion:\n",
    "\n",
    "- **Most movies** were released after **2000**, with a sharp rise post-2010, likely due to Netflix’s expansion and streaming growth.\n",
    "\n",
    "- **Peak releases** releases occurred in the late **2010s and early 2020s**, reflecting increased production.\n",
    "\n",
    "- **Older movies (pre-1990)** are scarce, Netflix’s catalog selection rather than actual industry production trends."
   ]
  },
  {
   "cell_type": "markdown",
   "metadata": {},
   "source": [
    "#### 2.2.2 Histogram for `duration`"
   ]
  },
  {
   "cell_type": "code",
   "execution_count": 5,
   "metadata": {},
   "outputs": [
    {
     "data": {
      "image/png": "[encoded data removed]",
      "text/plain": [
       "<Figure size 720x360 with 1 Axes>"
      ]
     },
     "metadata": {},
     "output_type": "display_data"
    }
   ],
   "source": [
    "# Figure size\n",
    "plt.figure(figsize=(10, 5))\n",
    "\n",
    "# Histogram of movie duration\n",
    "plt.hist(netflix_data[\"duration\"], bins=30, color=\"darkorange\", edgecolor=\"black\")\n",
    "plt.xlabel(\"Movie Duration (minutes)\")\n",
    "plt.ylabel(\"Count\")\n",
    "plt.title(\"Distribution of Movies Durations\")\n",
    "\n",
    "# Show plot\n",
    "plt.show()"
   ]
  },
  {
   "cell_type": "markdown",
   "metadata": {},
   "source": [
    "#### Interpretion:\n",
    "- **Most movies** are between **80–120 minutes**, with a peak around **100 minutes**.\n",
    "\n",
    "- **Right-skewed distribution**: A few movies exceed **150 minutes**, but they are uncommon.\n",
    "\n",
    "- **Short films** under **30 minutes**, may include documentaries or animated content.\n",
    "\n",
    "**Key Takeaway**:\n",
    "Netflix movies generally follow standard runtime norms, with a small portion of very short or long films."
   ]
  },
  {
   "cell_type": "markdown",
   "metadata": {},
   "source": [
    "#### 2.2.3 Boxplot for `duration`"
   ]
  },
  {
   "cell_type": "code",
   "execution_count": 6,
   "metadata": {},
   "outputs": [
    {
     "data": {
      "image/png": "[encoded data removed]",
      "text/plain": [
       "<Figure size 576x288 with 1 Axes>"
      ]
     },
     "metadata": {},
     "output_type": "display_data"
    }
   ],
   "source": [
    "# Figure size\n",
    "plt.figure(figsize=(8,4))\n",
    "\n",
    "# Boxplot of movie duration\n",
    "sns.boxplot(netflix_data['duration'], color='darkorange')\n",
    "plt.xlabel(\"Movie Duration (minutes)\")\n",
    "plt.title(\"Box Plot of Movie Durations\")\n",
    "\n",
    "# Show plot\n",
    "plt.show()"
   ]
  },
  {
   "cell_type": "markdown",
   "metadata": {},
   "source": [
    "#### Interpretion:\n",
    "\n",
    "- **Most movies** fall between 80–120 minutes, with a median close to 100 minutes.\n",
    "\n",
    "- **Outliers**: Movies under **50 minutes and over 150 minutes** are outliers.\n",
    "\n",
    "- **Right-skewed distribution**: A few extreme values exceed **200 minutes**, indicating very long films.\n",
    "\n",
    "This aligns with the histogram, confirming that most movies follow standard runtimes, with a few significantly shorter or longer ones."
   ]
  },
  {
   "cell_type": "markdown",
   "metadata": {},
   "source": [
    "## 3. Exploring the Research Questions\n",
    "\n",
    "To answer our research questions effectively, we first need to **focus on movies from the 1990s** by:\n",
    "\n",
    "- **Subsetting the dataset** to include only movies (excluding other types like TV shows).\n",
    "\n",
    "- **Filtering the movies dataset** to include only those released between **1990 and 1999**.\n",
    "\n",
    "Once we have the relevant data, we can proceed with targeted analysis for each research question."
   ]
  },
  {
   "cell_type": "code",
   "execution_count": 7,
   "metadata": {},
   "outputs": [
    {
     "data": {
      "text/html": [
       "<div>\n",
       "<style scoped>\n",
       "    .dataframe tbody tr th:only-of-type {\n",
       "        vertical-align: middle;\n",
       "    }\n",
       "\n",
       "    .dataframe tbody tr th {\n",
       "        vertical-align: top;\n",
       "    }\n",
       "\n",
       "    .dataframe thead th {\n",
       "        text-align: right;\n",
       "    }\n",
       "</style>\n",
       "<table border=\"1\" class=\"dataframe\">\n",
       "  <thead>\n",
       "    <tr style=\"text-align: right;\">\n",
       "      <th></th>\n",
       "      <th>show_id</th>\n",
       "      <th>type</th>\n",
       "      <th>title</th>\n",
       "      <th>director</th>\n",
       "      <th>cast</th>\n",
       "      <th>country</th>\n",
       "      <th>date_added</th>\n",
       "      <th>release_year</th>\n",
       "      <th>duration</th>\n",
       "      <th>description</th>\n",
       "      <th>genre</th>\n",
       "    </tr>\n",
       "  </thead>\n",
       "  <tbody>\n",
       "    <tr>\n",
       "      <th>6</th>\n",
       "      <td>s8</td>\n",
       "      <td>Movie</td>\n",
       "      <td>187</td>\n",
       "      <td>Kevin Reynolds</td>\n",
       "      <td>Samuel L. Jackson, John Heard, Kelly Rowan, Cl...</td>\n",
       "      <td>United States</td>\n",
       "      <td>November 1, 2019</td>\n",
       "      <td>1997</td>\n",
       "      <td>119</td>\n",
       "      <td>After one of his high school students attacks ...</td>\n",
       "      <td>Dramas</td>\n",
       "    </tr>\n",
       "    <tr>\n",
       "      <th>118</th>\n",
       "      <td>s167</td>\n",
       "      <td>Movie</td>\n",
       "      <td>A Dangerous Woman</td>\n",
       "      <td>Stephen Gyllenhaal</td>\n",
       "      <td>Debra Winger, Barbara Hershey, Gabriel Byrne, ...</td>\n",
       "      <td>United States</td>\n",
       "      <td>April 1, 2018</td>\n",
       "      <td>1993</td>\n",
       "      <td>101</td>\n",
       "      <td>At the center of this engrossing melodrama is ...</td>\n",
       "      <td>Dramas</td>\n",
       "    </tr>\n",
       "    <tr>\n",
       "      <th>145</th>\n",
       "      <td>s211</td>\n",
       "      <td>Movie</td>\n",
       "      <td>A Night at the Roxbury</td>\n",
       "      <td>John Fortenberry</td>\n",
       "      <td>Will Ferrell, Chris Kattan, Dan Hedaya, Molly ...</td>\n",
       "      <td>United States</td>\n",
       "      <td>December 1, 2019</td>\n",
       "      <td>1998</td>\n",
       "      <td>82</td>\n",
       "      <td>After a run-in with Richard Grieco, dimwits Do...</td>\n",
       "      <td>Comedies</td>\n",
       "    </tr>\n",
       "    <tr>\n",
       "      <th>167</th>\n",
       "      <td>s239</td>\n",
       "      <td>Movie</td>\n",
       "      <td>A Thin Line Between Love &amp; Hate</td>\n",
       "      <td>Martin Lawrence</td>\n",
       "      <td>Martin Lawrence, Lynn Whitfield, Regina King, ...</td>\n",
       "      <td>United States</td>\n",
       "      <td>December 1, 2020</td>\n",
       "      <td>1996</td>\n",
       "      <td>108</td>\n",
       "      <td>When a philandering club promoter sets out to ...</td>\n",
       "      <td>Comedies</td>\n",
       "    </tr>\n",
       "    <tr>\n",
       "      <th>194</th>\n",
       "      <td>s274</td>\n",
       "      <td>Movie</td>\n",
       "      <td>Aashik Awara</td>\n",
       "      <td>Umesh Mehra</td>\n",
       "      <td>Saif Ali Khan, Mamta Kulkarni, Mohnish Bahl, S...</td>\n",
       "      <td>India</td>\n",
       "      <td>June 1, 2017</td>\n",
       "      <td>1993</td>\n",
       "      <td>154</td>\n",
       "      <td>Raised by a kindly thief, orphaned Jimmy goes ...</td>\n",
       "      <td>Dramas</td>\n",
       "    </tr>\n",
       "  </tbody>\n",
       "</table>\n",
       "</div>"
      ],
      "text/plain": [
       "    show_id   type                            title            director  \\\n",
       "6        s8  Movie                              187      Kevin Reynolds   \n",
       "118    s167  Movie                A Dangerous Woman  Stephen Gyllenhaal   \n",
       "145    s211  Movie           A Night at the Roxbury    John Fortenberry   \n",
       "167    s239  Movie  A Thin Line Between Love & Hate     Martin Lawrence   \n",
       "194    s274  Movie                     Aashik Awara         Umesh Mehra   \n",
       "\n",
       "                                                  cast        country  \\\n",
       "6    Samuel L. Jackson, John Heard, Kelly Rowan, Cl...  United States   \n",
       "118  Debra Winger, Barbara Hershey, Gabriel Byrne, ...  United States   \n",
       "145  Will Ferrell, Chris Kattan, Dan Hedaya, Molly ...  United States   \n",
       "167  Martin Lawrence, Lynn Whitfield, Regina King, ...  United States   \n",
       "194  Saif Ali Khan, Mamta Kulkarni, Mohnish Bahl, S...          India   \n",
       "\n",
       "           date_added  release_year  duration  \\\n",
       "6    November 1, 2019          1997       119   \n",
       "118     April 1, 2018          1993       101   \n",
       "145  December 1, 2019          1998        82   \n",
       "167  December 1, 2020          1996       108   \n",
       "194      June 1, 2017          1993       154   \n",
       "\n",
       "                                           description     genre  \n",
       "6    After one of his high school students attacks ...    Dramas  \n",
       "118  At the center of this engrossing melodrama is ...    Dramas  \n",
       "145  After a run-in with Richard Grieco, dimwits Do...  Comedies  \n",
       "167  When a philandering club promoter sets out to ...  Comedies  \n",
       "194  Raised by a kindly thief, orphaned Jimmy goes ...    Dramas  "
      ]
     },
     "execution_count": 7,
     "metadata": {},
     "output_type": "execute_result"
    }
   ],
   "source": [
    "# Subset the dataset to include only movies\n",
    "movie_only = netflix_data[netflix_data[\"type\"] == \"Movie\"]\n",
    "\n",
    "# Filter for movies released in the 1990s (1990–1999)\n",
    "movie_1990s = movie_only[(movie_only[\"release_year\"] >= 1990) & (movie_only[\"release_year\"] < 2000)]\n",
    "\n",
    "# Display the first few rows of the filtered dataset\n",
    "movie_1990s.head() # Expecting only movies from 1990–1999\n"
   ]
  },
  {
   "cell_type": "markdown",
   "metadata": {},
   "source": [
    "### 3.1 Checking the `movie_1990s` Dataset"
   ]
  },
  {
   "cell_type": "code",
   "execution_count": 8,
   "metadata": {},
   "outputs": [
    {
     "name": "stdout",
     "output_type": "stream",
     "text": [
      "(183, 11)\n"
     ]
    },
    {
     "data": {
      "text/plain": [
       "array([1997, 1993, 1998, 1996, 1990, 1999, 1991, 1994, 1995, 1992],\n",
       "      dtype=int64)"
      ]
     },
     "execution_count": 8,
     "metadata": {},
     "output_type": "execute_result"
    }
   ],
   "source": [
    "# Check the number of rows and columns\n",
    "print(movie_1990s.shape)\n",
    "\n",
    "# Verify unique release years to ensure only 1990s movies are included\n",
    "movie_1990s[\"release_year\"].unique()"
   ]
  },
  {
   "cell_type": "markdown",
   "metadata": {},
   "source": [
    "#### Interpretation:\n",
    "\n",
    "- The dataset contains **183 movies** from the **1990s**, spanning **1992 to 1997**.\n",
    "\n",
    "- This confirms our filtering was successful.\n",
    "\n",
    "Now, let’s dive into answering our research questions! "
   ]
  },
  {
   "cell_type": "markdown",
   "metadata": {},
   "source": [
    "### 3.2 Answering  the Research Questions"
   ]
  },
  {
   "cell_type": "markdown",
   "metadata": {},
   "source": [
    "#### 3.2.1 What was the most frequent movie duration in the 1990s?"
   ]
  },
  {
   "cell_type": "code",
   "execution_count": 9,
   "metadata": {},
   "outputs": [
    {
     "name": "stdout",
     "output_type": "stream",
     "text": [
      " The most frequent movie duration in the 1990s was 94 minutes\n"
     ]
    },
    {
     "data": {
      "image/png": "[encoded data removed]",
      "text/plain": [
       "<Figure size 720x360 with 1 Axes>"
      ]
     },
     "metadata": {},
     "output_type": "display_data"
    }
   ],
   "source": [
    "# Find the most frequent movie duration in the 1990s\n",
    "frequent_duration = movie_1990s[\"duration\"].mode()[0]\n",
    "\n",
    "# Print the output\n",
    "print(f\" The most frequent movie duration in the 1990s was {frequent_duration} minutes\")\n",
    "\n",
    "# Visualize with histogram\n",
    "plt.figure(figsize=(10, 5))\n",
    "plt.hist(movie_1990s[\"duration\"], bins=\"auto\", color=\"royalblue\", edgecolor=\"black\")\n",
    "plt.axvline(frequent_duration, color=\"red\", linestyle=\"--\", label=\"The most frequent movie duration in the 1990s\")\n",
    "plt.grid(True, linestyle=\"--\", alpha=0.5)\n",
    "plt.title(\"Distribution of Movie Durations in the 1990s\")\n",
    "plt.xlabel(\"Duration (minutes)\")\n",
    "plt.ylabel(\"Count\")\n",
    "plt.legend()\n",
    "\n",
    "# Show plot\n",
    "plt.show()"
   ]
  },
  {
   "cell_type": "markdown",
   "metadata": {},
   "source": [
    "#### Interpretation:\n",
    "\n",
    "The most frequent movie duration in the 1990s was **94 minutes**, as shown by the histogram. This indicates that most films followed a standard runtime, aligning with industry norms of the time."
   ]
  },
  {
   "cell_type": "markdown",
   "metadata": {},
   "source": [
    "#### 3.2.2 How many action movies in the 1990s had a duration of less than 90 minutes?\n"
   ]
  },
  {
   "cell_type": "code",
   "execution_count": 10,
   "metadata": {},
   "outputs": [
    {
     "name": "stdout",
     "output_type": "stream",
     "text": [
      "Number of action movies in the 1990s with duration less than 90 minutes: 7\n"
     ]
    }
   ],
   "source": [
    "# Subset the dataset to include only action movies\n",
    "action_movie = movie_1990s[movie_1990s[\"genre\"] == \"Action\"]\n",
    "\n",
    "# Count action movies with duration < 90 minutes\n",
    "short_action_movie = (action_movie[\"duration\"] < 90).sum()\n",
    "\n",
    "# Display the result\n",
    "print(f\"Number of action movies in the 1990s with duration less than 90 minutes: {short_action_movie}\")\n"
   ]
  },
  {
   "cell_type": "markdown",
   "metadata": {},
   "source": [
    "#### 3.2.3 What were the most popular genres and who were the most prolific directors?\n",
    "\n"
   ]
  },
  {
   "cell_type": "code",
   "execution_count": 11,
   "metadata": {},
   "outputs": [
    {
     "data": {
      "image/png": "[encoded data removed]",
      "text/plain": [
       "<Figure size 720x360 with 1 Axes>"
      ]
     },
     "metadata": {},
     "output_type": "display_data"
    },
    {
     "data": {
      "image/png": "[encoded data removed]",
      "text/plain": [
       "<Figure size 720x360 with 1 Axes>"
      ]
     },
     "metadata": {},
     "output_type": "display_data"
    }
   ],
   "source": [
    "# Most popular genres\n",
    "top_genres = movie_1990s[\"genre\"].value_counts().head()\n",
    "\n",
    "# Most prolific directors\n",
    "top_directors = movie_1990s[\"director\"].value_counts().head()\n",
    "\n",
    "# Set style\n",
    "sns.set_style(\"darkgrid\")\n",
    "\n",
    "# Plot top genres\n",
    "plt.figure(figsize=(10, 5))\n",
    "sns.barplot(x=top_genres.values, y=top_genres.index, palette=\"Blues_r\", edgecolor=\"black\")\n",
    "plt.grid(True, linestyle=\"--\", alpha=0.5)\n",
    "plt.xlabel(\"Count\")\n",
    "plt.ylabel(\"Genre\")\n",
    "plt.title(\"Top Genres in the 1990s\")\n",
    "plt.show()\n",
    "\n",
    "# Plot top directors\n",
    "plt.figure(figsize=(10, 5))\n",
    "sns.barplot(x=top_directors.values, y=top_directors.index, palette=\"Greens_r\", edgecolor=\"black\")\n",
    "plt.grid(True, linestyle=\"--\", alpha=0.7)\n",
    "plt.xlabel(\"Count\")\n",
    "plt.ylabel(\"Director\")\n",
    "plt.title(\"Most Prolific Directors in the 1990s\")\n",
    "plt.show()"
   ]
  },
  {
   "cell_type": "markdown",
   "metadata": {},
   "source": [
    "#### Interpretation:\n",
    "The bar charts highlight key trends in **1990s cinema**:  \n",
    "\n",
    "- **Top Genres:** Action, Drama, and Comedies dominated, with **Action** being the most popular.  \n",
    "- **Most Prolific Directors:** **Johnnie To** directed the most movies, followed by **Youssef Chahine and Umesh Mehra**.  \n",
    "\n",
    "This suggests a strong audience preference for **thrilling and dramatic storytelling**, while a few directors were notably productive in shaping the decade’s film landscape."
   ]
  },
  {
   "cell_type": "markdown",
   "metadata": {},
   "source": [
    "#### 3.2.4 Which countries produced the most movies during this period?\n",
    "\n"
   ]
  },
  {
   "cell_type": "code",
   "execution_count": 12,
   "metadata": {},
   "outputs": [
    {
     "data": {
      "image/png": "[encoded data removed]",
      "text/plain": [
       "<Figure size 720x360 with 1 Axes>"
      ]
     },
     "metadata": {},
     "output_type": "display_data"
    }
   ],
   "source": [
    "# Top producing countries \n",
    "top_countries = movie_1990s[\"country\"].value_counts().head()\n",
    "\n",
    "# Convert top_countries into DataFrame and rename columns\n",
    "top_countries = top_countries.reset_index()  \n",
    "top_countries.columns = [\"Country\", \"Count\"]  \n",
    "\n",
    "# Set style\n",
    "sns.set_style(\"whitegrid\")\n",
    "\n",
    "# Visualize the distribution\n",
    "plt.figure(figsize=(10, 5))\n",
    "sns.barplot(data=top_countries, x=\"Count\", y=\"Country\", palette=\"Blues_r\", edgecolor=\"black\")\n",
    "plt.grid(True, linestyle=\"--\", alpha=0.5)\n",
    "plt.title(\"Top Movie-Producing Countries in 1990s\")\n",
    "plt.xlabel(\"Number of Movies\")\n",
    "plt.ylabel(\"Country\")\n",
    "\n",
    "# Show plot\n",
    "plt.show()"
   ]
  },
  {
   "cell_type": "markdown",
   "metadata": {},
   "source": [
    "#### Interpretation:\n",
    "\n",
    "The bar chart illustrates the **top five movie-producing countries in the 1990s**. The **United States** dominated the industry with the highest number of movies, followed by **India** and the **United Kingdom**, which had significantly lower production numbers. **Hong Kong and France** also contributed, but at a much smaller scale.  \n",
    "\n",
    "This highlights the **key players in the global film industry** during the decade."
   ]
  },
  {
   "cell_type": "markdown",
   "metadata": {},
   "source": [
    "#### 3.2.5 Did movie durations increase or decrease over time?\n"
   ]
  },
  {
   "cell_type": "code",
   "execution_count": 13,
   "metadata": {},
   "outputs": [
    {
     "data": {
      "image/png": "[encoded data removed]",
      "text/plain": [
       "<Figure size 720x360 with 1 Axes>"
      ]
     },
     "metadata": {},
     "output_type": "display_data"
    }
   ],
   "source": [
    "# Calculate the average duration of each year\n",
    "yearly_average_duration = movie_1990s.groupby(\"release_year\")[\"duration\"].mean()\n",
    "\n",
    "# Set style\n",
    "sns.set_style(\"whitegrid\")\n",
    "\n",
    "# Visualize the trend\n",
    "plt.figure(figsize=(10, 5))\n",
    "sns.lineplot(x=yearly_average_duration.index, y=yearly_average_duration.values, marker=\"o\", color=\"royalblue\")\n",
    "#plt.plot(yearly_average_duration, color=\"darkorange\", marker=\"o\", marker_color=\"darkorange\", linestyle=\"-\")\n",
    "plt.title(\"Movie Duration Trend in 1990s\")\n",
    "plt.xlabel(\"Release Year\")\n",
    "plt.ylabel(\"Average Duration (minutes)\")\n",
    "plt.grid(True, linestyle=\"--\", alpha=0.5)\n",
    "\n",
    "# Show plot\n",
    "plt.show()"
   ]
  },
  {
   "cell_type": "markdown",
   "metadata": {},
   "source": [
    "#### Interpretation:\n",
    "The line chart shows the **trend in average movie duration throughout the 1990s**, with no consistent increase or decrease.  \n",
    "\n",
    "- **1991 Drop:** A **sharp decline** brought durations to around **95 minutes**.  \n",
    "- **1992-1994 Rise:** A steady increase peaked at **130 minutes in 1994**.  \n",
    "- **1995-1999 Fluctuations:** Durations varied, reaching a low in **1998** before rising slightly in **1999**.  \n",
    "\n",
    "Overall, movie durations **fluctuated rather than following a clear trend**, with some years favoring shorter films and others longer ones.\n",
    "\n"
   ]
  },
  {
   "cell_type": "markdown",
   "metadata": {},
   "source": [
    "## 4. Key Findings\n",
    "\n",
    "#### 1. Most Frequent Movie Duration  \n",
    "The most frequent movie duration in the 1990s was **94 minutes**, as indicated by the histogram. This suggests that most movies during this period followed a **standard runtime**, aligning with industry norms.  \n",
    "\n",
    "#### 2. Action Movies Under 90 Minutes  \n",
    "A total of **7 action movies** in the 1990s had a duration of less than **90 minutes**, indicating that most action films tended to be longer.  \n",
    "\n",
    "#### 3. Most Popular Genres & Prolific Directors  \n",
    "- **Top Genres:** Action, Drama, and Comedies dominated, with **Action** being the most popular.  \n",
    "- **Most Prolific Directors:** **Johnnie To** directed the most movies, followed by **Youssef Chahine** and **Umesh Mehra**.  \n",
    "This suggests a **strong audience preference for thrilling and dramatic storytelling**, while a few directors played a key role in shaping 1990s cinema.  \n",
    "\n",
    "#### 4. Top Movie-Producing Countries  \n",
    "The United States **dominated** the industry with the highest number of movies, followed by **India and the United Kingdom**, which had significantly lower production numbers. **Hong Kong and France** also contributed but at a much smaller scale. This highlights the **key players in the global film industry** during the decade.  \n",
    "\n",
    "#### 5. Movie Duration Trend Over Time \n",
    "Movie durations in the 1990s **did not follow a consistent increasing or decreasing trend** but fluctuated:  \n",
    "- **1991 saw a sharp drop** to around **95 minutes**.  \n",
    "- **1992-1994 showed a steady rise**, peaking at **130 minutes** in 1994.  \n",
    "- **1995-1999 exhibited fluctuations**, with a dip in **1998** before a slight rebound in **1999**.  \n",
    "This suggests that while some years favored shorter films, others leaned toward longer runtimes, reflecting diverse storytelling approaches in the decade."
   ]
  },
  {
   "cell_type": "markdown",
   "metadata": {},
   "source": [
    "## 5. Conclusion \n",
    "\n",
    "The analysis of Netflix's 1990s movie catalog highlights key trends in film production, audience preferences, and industry dynamics during the decade.  \n",
    "\n",
    "- **Genre Dominance:** **Action** emerged as the most popular genre, followed by **Drama** and **Comedy**, reflecting audience preferences for high-energy and emotionally compelling storytelling.  \n",
    "\n",
    "- **Leading Movie-Producing Countries:** The **United States** led in film production, followed by **India** and the **United Kingdom**, reinforcing Hollywood’s dominant role in the global film industry.\n",
    "\n",
    "- **Most Prolific Directors:** **Johnnie To**, a Hong Kong filmmaker, directed the most movies in the dataset, highlighting the influence of Asian cinema in the 1990s.  \n",
    "\n",
    "- **Movie Duration Trends:** Film durations fluctuated throughout the decade, with no clear increasing or decreasing trend, suggesting that runtime decisions were content-driven rather than dictated by industry standards.  \n",
    "\n",
    "This exploratory data analysis (EDA) provides valuable insights into 1990s cinema and raises interesting questions for future research. \n",
    "\n",
    " - **Did these trends persist into the 21st century?** \n",
    " - **How have audience preferences evolved over time?** \n",
    "\n",
    "Further studies could incorporate **machine learning techniques to predict genre trends, analyze streaming-era preferences, or assess the impact of globalization on film production.**  \n",
    "\n",
    "This study not only offers a snapshot of 1990s filmmaking but also sets the stage for deeper investigations into the evolution of the global movie industry."
   ]
  },
  {
   "cell_type": "code",
   "execution_count": null,
   "metadata": {},
   "outputs": [],
   "source": []
  }
 ],
 "metadata": {
  "kernelspec": {
   "display_name": "Python 3",
   "language": "python",
   "name": "python3"
  },
  "language_info": {
   "codemirror_mode": {
    "name": "ipython",
    "version": 3
   },
   "file_extension": ".py",
   "mimetype": "text/x-python",
   "name": "python",
   "nbconvert_exporter": "python",
   "pygments_lexer": "ipython3",
   "version": "3.7.6"
  }
 },
 "nbformat": 4,
 "nbformat_minor": 4
}
